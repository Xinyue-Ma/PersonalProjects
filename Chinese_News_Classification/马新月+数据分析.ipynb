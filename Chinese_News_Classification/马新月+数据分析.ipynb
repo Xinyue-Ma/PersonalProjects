{
 "cells": [
  {
   "cell_type": "code",
   "execution_count": 688,
   "metadata": {
    "scrolled": true
   },
   "outputs": [],
   "source": [
    "# import libraries\n",
    "%matplotlib inline\n",
    "\n",
    "import tensorflow as tf\n",
    "import matplotlib.pyplot as plt\n",
    "import nlp\n",
    "import random\n",
    "import pandas as pd\n",
    "import numpy as np"
   ]
  },
  {
   "cell_type": "markdown",
   "metadata": {},
   "source": [
    "# 1. Importing data"
   ]
  },
  {
   "cell_type": "code",
   "execution_count": 689,
   "metadata": {},
   "outputs": [
    {
     "name": "stdout",
     "output_type": "stream",
     "text": [
      "{'国际', '文娱', '军事', '三农', '教育', '书画', '经济', '健康', '科技', '人物', '生活', '社会', '国内', '农经', '法治'}\n"
     ]
    },
    {
     "data": {
      "text/html": [
       "<div>\n",
       "<style scoped>\n",
       "    .dataframe tbody tr th:only-of-type {\n",
       "        vertical-align: middle;\n",
       "    }\n",
       "\n",
       "    .dataframe tbody tr th {\n",
       "        vertical-align: top;\n",
       "    }\n",
       "\n",
       "    .dataframe thead th {\n",
       "        text-align: right;\n",
       "    }\n",
       "</style>\n",
       "<table border=\"1\" class=\"dataframe\">\n",
       "  <thead>\n",
       "    <tr style=\"text-align: right;\">\n",
       "      <th></th>\n",
       "      <th>标题</th>\n",
       "      <th>标题链接</th>\n",
       "      <th>brief</th>\n",
       "      <th>keywords</th>\n",
       "      <th>发布时间</th>\n",
       "      <th>新闻类别</th>\n",
       "      <th>采集时的时间</th>\n",
       "    </tr>\n",
       "  </thead>\n",
       "  <tbody>\n",
       "    <tr>\n",
       "      <th>0</th>\n",
       "      <td>273名境外男性被骗 江西通报多起电信诈骗案例</td>\n",
       "      <td>https://news.cctv.com/2021/04/24/ARTIGy2uTDQP0...</td>\n",
       "      <td>赣州各级法院审理的14起案件中，诈骗分子假冒海外女留学生，通过各类社交软件对境外的273名男...</td>\n",
       "      <td>境外男性,被骗,电信诈骗</td>\n",
       "      <td>2021-04-24</td>\n",
       "      <td>法治</td>\n",
       "      <td>2021-04-24 17:05:14</td>\n",
       "    </tr>\n",
       "    <tr>\n",
       "      <th>1</th>\n",
       "      <td>河南新安警方通报“未成年女孩遭脱衣殴打”：一嫌犯被刑拘</td>\n",
       "      <td>https://news.cctv.com/2021/04/23/ARTI1jntJjhQu...</td>\n",
       "      <td>针对网传“未成年女孩遭脱衣殴打欺凌”视频，河南洛阳市新安县公安局官方微博@平安新安4月22日...</td>\n",
       "      <td>殴打,新安县,未成年女孩</td>\n",
       "      <td>2021-04-23</td>\n",
       "      <td>法治</td>\n",
       "      <td>2021-04-24 17:05:14</td>\n",
       "    </tr>\n",
       "    <tr>\n",
       "      <th>2</th>\n",
       "      <td>你出国打工，你父母知道吗？小伙欲出国打工赚大钱被民警“灵魂拷问”</td>\n",
       "      <td>https://news.cctv.com/2021/04/23/ARTIZxSIe5N7d...</td>\n",
       "      <td>一名19岁的小伙儿在办理出国护照时，面对民警的一系列“灵魂拷问”终于坦白，为了出国“打洋工”...</td>\n",
       "      <td>小伙,出国打工,赚大钱</td>\n",
       "      <td>2021-04-23</td>\n",
       "      <td>法治</td>\n",
       "      <td>2021-04-24 17:05:14</td>\n",
       "    </tr>\n",
       "    <tr>\n",
       "      <th>3</th>\n",
       "      <td>山东省威海市人大常委会原第一副主任、市委政法委原书记刘茂德接受纪律审查和监察调查</td>\n",
       "      <td>https://news.cctv.com/2021/04/23/ARTIq78F5xbiA...</td>\n",
       "      <td>山东省纪委监委22日发布通报，山东省威海市人大常委会原第一副主任、市委政法委原书记刘茂德涉嫌...</td>\n",
       "      <td>刘茂德,纪律审查,监察调查</td>\n",
       "      <td>2021-04-23</td>\n",
       "      <td>法治</td>\n",
       "      <td>2021-04-24 17:05:14</td>\n",
       "    </tr>\n",
       "    <tr>\n",
       "      <th>4</th>\n",
       "      <td>延期开庭，“5年4次起诉遭驳回离婚案”再起波澜</td>\n",
       "      <td>https://news.cctv.com/2021/04/22/ARTI2cgxr52rG...</td>\n",
       "      <td>据湖南衡阳市衡阳县法院官方微博消息，衡阳县人民法院21日晚发布关于宁顺花诉陈定华离婚纠纷一案...</td>\n",
       "      <td>宁顺花,陈定华,离婚</td>\n",
       "      <td>2021-04-22</td>\n",
       "      <td>法治</td>\n",
       "      <td>2021-04-24 17:05:14</td>\n",
       "    </tr>\n",
       "  </tbody>\n",
       "</table>\n",
       "</div>"
      ],
      "text/plain": [
       "                                         标题  \\\n",
       "0                   273名境外男性被骗 江西通报多起电信诈骗案例   \n",
       "1               河南新安警方通报“未成年女孩遭脱衣殴打”：一嫌犯被刑拘   \n",
       "2          你出国打工，你父母知道吗？小伙欲出国打工赚大钱被民警“灵魂拷问”   \n",
       "3  山东省威海市人大常委会原第一副主任、市委政法委原书记刘茂德接受纪律审查和监察调查   \n",
       "4                   延期开庭，“5年4次起诉遭驳回离婚案”再起波澜   \n",
       "\n",
       "                                                标题链接  \\\n",
       "0  https://news.cctv.com/2021/04/24/ARTIGy2uTDQP0...   \n",
       "1  https://news.cctv.com/2021/04/23/ARTI1jntJjhQu...   \n",
       "2  https://news.cctv.com/2021/04/23/ARTIZxSIe5N7d...   \n",
       "3  https://news.cctv.com/2021/04/23/ARTIq78F5xbiA...   \n",
       "4  https://news.cctv.com/2021/04/22/ARTI2cgxr52rG...   \n",
       "\n",
       "                                               brief       keywords  \\\n",
       "0  赣州各级法院审理的14起案件中，诈骗分子假冒海外女留学生，通过各类社交软件对境外的273名男...   境外男性,被骗,电信诈骗   \n",
       "1  针对网传“未成年女孩遭脱衣殴打欺凌”视频，河南洛阳市新安县公安局官方微博@平安新安4月22日...   殴打,新安县,未成年女孩   \n",
       "2  一名19岁的小伙儿在办理出国护照时，面对民警的一系列“灵魂拷问”终于坦白，为了出国“打洋工”...    小伙,出国打工,赚大钱   \n",
       "3  山东省纪委监委22日发布通报，山东省威海市人大常委会原第一副主任、市委政法委原书记刘茂德涉嫌...  刘茂德,纪律审查,监察调查   \n",
       "4  据湖南衡阳市衡阳县法院官方微博消息，衡阳县人民法院21日晚发布关于宁顺花诉陈定华离婚纠纷一案...     宁顺花,陈定华,离婚   \n",
       "\n",
       "         发布时间 新闻类别               采集时的时间  \n",
       "0  2021-04-24   法治  2021-04-24 17:05:14  \n",
       "1  2021-04-23   法治  2021-04-24 17:05:14  \n",
       "2  2021-04-23   法治  2021-04-24 17:05:14  \n",
       "3  2021-04-23   法治  2021-04-24 17:05:14  \n",
       "4  2021-04-22   法治  2021-04-24 17:05:14  "
      ]
     },
     "execution_count": 689,
     "metadata": {},
     "output_type": "execute_result"
    }
   ],
   "source": [
    "news = pd.read_csv('news.csv',encoding=\"gbk\")\n",
    "print(set(news['新闻类别']))\n",
    "news.head()"
   ]
  },
  {
   "cell_type": "code",
   "execution_count": 281,
   "metadata": {},
   "outputs": [
    {
     "name": "stderr",
     "output_type": "stream",
     "text": [
      "/Users/xinyue/opt/anaconda3/lib/python3.8/site-packages/matplotlib/backends/backend_agg.py:238: RuntimeWarning: Glyph 20070 missing from current font.\n",
      "  font.set_text(s, 0.0, flags=flags)\n",
      "/Users/xinyue/opt/anaconda3/lib/python3.8/site-packages/matplotlib/backends/backend_agg.py:238: RuntimeWarning: Glyph 30011 missing from current font.\n",
      "  font.set_text(s, 0.0, flags=flags)\n",
      "/Users/xinyue/opt/anaconda3/lib/python3.8/site-packages/matplotlib/backends/backend_agg.py:238: RuntimeWarning: Glyph 20154 missing from current font.\n",
      "  font.set_text(s, 0.0, flags=flags)\n",
      "/Users/xinyue/opt/anaconda3/lib/python3.8/site-packages/matplotlib/backends/backend_agg.py:238: RuntimeWarning: Glyph 29289 missing from current font.\n",
      "  font.set_text(s, 0.0, flags=flags)\n",
      "/Users/xinyue/opt/anaconda3/lib/python3.8/site-packages/matplotlib/backends/backend_agg.py:238: RuntimeWarning: Glyph 31038 missing from current font.\n",
      "  font.set_text(s, 0.0, flags=flags)\n",
      "/Users/xinyue/opt/anaconda3/lib/python3.8/site-packages/matplotlib/backends/backend_agg.py:238: RuntimeWarning: Glyph 20250 missing from current font.\n",
      "  font.set_text(s, 0.0, flags=flags)\n",
      "/Users/xinyue/opt/anaconda3/lib/python3.8/site-packages/matplotlib/backends/backend_agg.py:238: RuntimeWarning: Glyph 22269 missing from current font.\n",
      "  font.set_text(s, 0.0, flags=flags)\n",
      "/Users/xinyue/opt/anaconda3/lib/python3.8/site-packages/matplotlib/backends/backend_agg.py:238: RuntimeWarning: Glyph 38469 missing from current font.\n",
      "  font.set_text(s, 0.0, flags=flags)\n",
      "/Users/xinyue/opt/anaconda3/lib/python3.8/site-packages/matplotlib/backends/backend_agg.py:238: RuntimeWarning: Glyph 20581 missing from current font.\n",
      "  font.set_text(s, 0.0, flags=flags)\n",
      "/Users/xinyue/opt/anaconda3/lib/python3.8/site-packages/matplotlib/backends/backend_agg.py:238: RuntimeWarning: Glyph 24247 missing from current font.\n",
      "  font.set_text(s, 0.0, flags=flags)\n",
      "/Users/xinyue/opt/anaconda3/lib/python3.8/site-packages/matplotlib/backends/backend_agg.py:238: RuntimeWarning: Glyph 20869 missing from current font.\n",
      "  font.set_text(s, 0.0, flags=flags)\n",
      "/Users/xinyue/opt/anaconda3/lib/python3.8/site-packages/matplotlib/backends/backend_agg.py:238: RuntimeWarning: Glyph 27861 missing from current font.\n",
      "  font.set_text(s, 0.0, flags=flags)\n",
      "/Users/xinyue/opt/anaconda3/lib/python3.8/site-packages/matplotlib/backends/backend_agg.py:238: RuntimeWarning: Glyph 27835 missing from current font.\n",
      "  font.set_text(s, 0.0, flags=flags)\n",
      "/Users/xinyue/opt/anaconda3/lib/python3.8/site-packages/matplotlib/backends/backend_agg.py:238: RuntimeWarning: Glyph 29983 missing from current font.\n",
      "  font.set_text(s, 0.0, flags=flags)\n",
      "/Users/xinyue/opt/anaconda3/lib/python3.8/site-packages/matplotlib/backends/backend_agg.py:238: RuntimeWarning: Glyph 27963 missing from current font.\n",
      "  font.set_text(s, 0.0, flags=flags)\n",
      "/Users/xinyue/opt/anaconda3/lib/python3.8/site-packages/matplotlib/backends/backend_agg.py:238: RuntimeWarning: Glyph 31185 missing from current font.\n",
      "  font.set_text(s, 0.0, flags=flags)\n",
      "/Users/xinyue/opt/anaconda3/lib/python3.8/site-packages/matplotlib/backends/backend_agg.py:238: RuntimeWarning: Glyph 25216 missing from current font.\n",
      "  font.set_text(s, 0.0, flags=flags)\n",
      "/Users/xinyue/opt/anaconda3/lib/python3.8/site-packages/matplotlib/backends/backend_agg.py:238: RuntimeWarning: Glyph 25945 missing from current font.\n",
      "  font.set_text(s, 0.0, flags=flags)\n",
      "/Users/xinyue/opt/anaconda3/lib/python3.8/site-packages/matplotlib/backends/backend_agg.py:238: RuntimeWarning: Glyph 32946 missing from current font.\n",
      "  font.set_text(s, 0.0, flags=flags)\n",
      "/Users/xinyue/opt/anaconda3/lib/python3.8/site-packages/matplotlib/backends/backend_agg.py:238: RuntimeWarning: Glyph 25991 missing from current font.\n",
      "  font.set_text(s, 0.0, flags=flags)\n",
      "/Users/xinyue/opt/anaconda3/lib/python3.8/site-packages/matplotlib/backends/backend_agg.py:238: RuntimeWarning: Glyph 23089 missing from current font.\n",
      "  font.set_text(s, 0.0, flags=flags)\n",
      "/Users/xinyue/opt/anaconda3/lib/python3.8/site-packages/matplotlib/backends/backend_agg.py:238: RuntimeWarning: Glyph 19977 missing from current font.\n",
      "  font.set_text(s, 0.0, flags=flags)\n",
      "/Users/xinyue/opt/anaconda3/lib/python3.8/site-packages/matplotlib/backends/backend_agg.py:238: RuntimeWarning: Glyph 20892 missing from current font.\n",
      "  font.set_text(s, 0.0, flags=flags)\n",
      "/Users/xinyue/opt/anaconda3/lib/python3.8/site-packages/matplotlib/backends/backend_agg.py:238: RuntimeWarning: Glyph 32463 missing from current font.\n",
      "  font.set_text(s, 0.0, flags=flags)\n",
      "/Users/xinyue/opt/anaconda3/lib/python3.8/site-packages/matplotlib/backends/backend_agg.py:238: RuntimeWarning: Glyph 20891 missing from current font.\n",
      "  font.set_text(s, 0.0, flags=flags)\n",
      "/Users/xinyue/opt/anaconda3/lib/python3.8/site-packages/matplotlib/backends/backend_agg.py:238: RuntimeWarning: Glyph 20107 missing from current font.\n",
      "  font.set_text(s, 0.0, flags=flags)\n",
      "/Users/xinyue/opt/anaconda3/lib/python3.8/site-packages/matplotlib/backends/backend_agg.py:238: RuntimeWarning: Glyph 27982 missing from current font.\n",
      "  font.set_text(s, 0.0, flags=flags)\n",
      "/Users/xinyue/opt/anaconda3/lib/python3.8/site-packages/matplotlib/backends/backend_agg.py:201: RuntimeWarning: Glyph 20070 missing from current font.\n",
      "  font.set_text(s, 0, flags=flags)\n",
      "/Users/xinyue/opt/anaconda3/lib/python3.8/site-packages/matplotlib/backends/backend_agg.py:201: RuntimeWarning: Glyph 30011 missing from current font.\n",
      "  font.set_text(s, 0, flags=flags)\n",
      "/Users/xinyue/opt/anaconda3/lib/python3.8/site-packages/matplotlib/backends/backend_agg.py:201: RuntimeWarning: Glyph 20154 missing from current font.\n",
      "  font.set_text(s, 0, flags=flags)\n",
      "/Users/xinyue/opt/anaconda3/lib/python3.8/site-packages/matplotlib/backends/backend_agg.py:201: RuntimeWarning: Glyph 29289 missing from current font.\n",
      "  font.set_text(s, 0, flags=flags)\n",
      "/Users/xinyue/opt/anaconda3/lib/python3.8/site-packages/matplotlib/backends/backend_agg.py:201: RuntimeWarning: Glyph 31038 missing from current font.\n",
      "  font.set_text(s, 0, flags=flags)\n",
      "/Users/xinyue/opt/anaconda3/lib/python3.8/site-packages/matplotlib/backends/backend_agg.py:201: RuntimeWarning: Glyph 20250 missing from current font.\n",
      "  font.set_text(s, 0, flags=flags)\n",
      "/Users/xinyue/opt/anaconda3/lib/python3.8/site-packages/matplotlib/backends/backend_agg.py:201: RuntimeWarning: Glyph 22269 missing from current font.\n",
      "  font.set_text(s, 0, flags=flags)\n",
      "/Users/xinyue/opt/anaconda3/lib/python3.8/site-packages/matplotlib/backends/backend_agg.py:201: RuntimeWarning: Glyph 38469 missing from current font.\n",
      "  font.set_text(s, 0, flags=flags)\n",
      "/Users/xinyue/opt/anaconda3/lib/python3.8/site-packages/matplotlib/backends/backend_agg.py:201: RuntimeWarning: Glyph 20581 missing from current font.\n",
      "  font.set_text(s, 0, flags=flags)\n",
      "/Users/xinyue/opt/anaconda3/lib/python3.8/site-packages/matplotlib/backends/backend_agg.py:201: RuntimeWarning: Glyph 24247 missing from current font.\n",
      "  font.set_text(s, 0, flags=flags)\n",
      "/Users/xinyue/opt/anaconda3/lib/python3.8/site-packages/matplotlib/backends/backend_agg.py:201: RuntimeWarning: Glyph 20869 missing from current font.\n",
      "  font.set_text(s, 0, flags=flags)\n",
      "/Users/xinyue/opt/anaconda3/lib/python3.8/site-packages/matplotlib/backends/backend_agg.py:201: RuntimeWarning: Glyph 27861 missing from current font.\n",
      "  font.set_text(s, 0, flags=flags)\n",
      "/Users/xinyue/opt/anaconda3/lib/python3.8/site-packages/matplotlib/backends/backend_agg.py:201: RuntimeWarning: Glyph 27835 missing from current font.\n",
      "  font.set_text(s, 0, flags=flags)\n",
      "/Users/xinyue/opt/anaconda3/lib/python3.8/site-packages/matplotlib/backends/backend_agg.py:201: RuntimeWarning: Glyph 29983 missing from current font.\n",
      "  font.set_text(s, 0, flags=flags)\n",
      "/Users/xinyue/opt/anaconda3/lib/python3.8/site-packages/matplotlib/backends/backend_agg.py:201: RuntimeWarning: Glyph 27963 missing from current font.\n",
      "  font.set_text(s, 0, flags=flags)\n",
      "/Users/xinyue/opt/anaconda3/lib/python3.8/site-packages/matplotlib/backends/backend_agg.py:201: RuntimeWarning: Glyph 31185 missing from current font.\n",
      "  font.set_text(s, 0, flags=flags)\n",
      "/Users/xinyue/opt/anaconda3/lib/python3.8/site-packages/matplotlib/backends/backend_agg.py:201: RuntimeWarning: Glyph 25216 missing from current font.\n",
      "  font.set_text(s, 0, flags=flags)\n",
      "/Users/xinyue/opt/anaconda3/lib/python3.8/site-packages/matplotlib/backends/backend_agg.py:201: RuntimeWarning: Glyph 25945 missing from current font.\n",
      "  font.set_text(s, 0, flags=flags)\n",
      "/Users/xinyue/opt/anaconda3/lib/python3.8/site-packages/matplotlib/backends/backend_agg.py:201: RuntimeWarning: Glyph 32946 missing from current font.\n",
      "  font.set_text(s, 0, flags=flags)\n",
      "/Users/xinyue/opt/anaconda3/lib/python3.8/site-packages/matplotlib/backends/backend_agg.py:201: RuntimeWarning: Glyph 25991 missing from current font.\n",
      "  font.set_text(s, 0, flags=flags)\n",
      "/Users/xinyue/opt/anaconda3/lib/python3.8/site-packages/matplotlib/backends/backend_agg.py:201: RuntimeWarning: Glyph 23089 missing from current font.\n",
      "  font.set_text(s, 0, flags=flags)\n",
      "/Users/xinyue/opt/anaconda3/lib/python3.8/site-packages/matplotlib/backends/backend_agg.py:201: RuntimeWarning: Glyph 19977 missing from current font.\n",
      "  font.set_text(s, 0, flags=flags)\n",
      "/Users/xinyue/opt/anaconda3/lib/python3.8/site-packages/matplotlib/backends/backend_agg.py:201: RuntimeWarning: Glyph 20892 missing from current font.\n",
      "  font.set_text(s, 0, flags=flags)\n",
      "/Users/xinyue/opt/anaconda3/lib/python3.8/site-packages/matplotlib/backends/backend_agg.py:201: RuntimeWarning: Glyph 32463 missing from current font.\n",
      "  font.set_text(s, 0, flags=flags)\n",
      "/Users/xinyue/opt/anaconda3/lib/python3.8/site-packages/matplotlib/backends/backend_agg.py:201: RuntimeWarning: Glyph 20891 missing from current font.\n",
      "  font.set_text(s, 0, flags=flags)\n",
      "/Users/xinyue/opt/anaconda3/lib/python3.8/site-packages/matplotlib/backends/backend_agg.py:201: RuntimeWarning: Glyph 20107 missing from current font.\n",
      "  font.set_text(s, 0, flags=flags)\n",
      "/Users/xinyue/opt/anaconda3/lib/python3.8/site-packages/matplotlib/backends/backend_agg.py:201: RuntimeWarning: Glyph 27982 missing from current font.\n",
      "  font.set_text(s, 0, flags=flags)\n"
     ]
    },
    {
     "data": {
      "image/png": "[encoded data removed]",
      "text/plain": [
       "<Figure size 720x288 with 1 Axes>"
      ]
     },
     "metadata": {
      "needs_background": "light"
     },
     "output_type": "display_data"
    }
   ],
   "source": [
    "my_label = ['国际', '文娱', '军事', '三农', '教育', '书画', '经济', '健康', '科技', '人物', '生活', '社会', '国内', '农经', '法治']\n",
    "plt.figure(figsize=(10,4))\n",
    "news['新闻类别'].value_counts().plot(kind='bar');"
   ]
  },
  {
   "cell_type": "code",
   "execution_count": 282,
   "metadata": {},
   "outputs": [
    {
     "name": "stdout",
     "output_type": "stream",
     "text": [
      "['2021-04-24 16:42:20', '2021-04-24 16:42:21', '2021-04-24 16:42:23', '2021-04-24 16:42:24', '2021-04-24 16:42:25', '2021-04-24 16:42:26', '2021-04-24 16:42:27', '2021-04-24 16:42:28', '2021-04-24 16:42:29', '2021-04-24 16:42:30', '2021-04-24 16:42:31', '2021-04-24 16:42:32', '2021-04-24 16:42:33', '2021-04-24 16:42:34', '2021-04-24 16:42:35', '2021-04-24 16:42:36', '2021-04-24 16:42:37', '2021-04-24 16:42:39', '2021-04-24 16:42:40', '2021-04-24 16:42:42', '2021-04-24 16:42:43', '2021-04-24 16:42:44', '2021-04-24 16:42:45', '2021-04-24 16:42:46', '2021-04-24 16:42:47', '2021-04-24 16:42:48', '2021-04-24 16:42:49', '2021-04-24 16:42:50', '2021-04-24 16:42:51', '2021-04-24 16:42:52', '2021-04-24 16:42:54', '2021-04-24 16:42:55', '2021-04-24 16:42:57', '2021-04-24 16:42:58', '2021-04-24 16:42:59', '2021-04-24 16:43:00', '2021-04-24 16:43:01', '2021-04-24 16:43:02', '2021-04-24 16:43:03', '2021-04-24 16:43:04', '2021-04-24 16:43:05', '2021-04-24 16:43:06', '2021-04-24 16:43:07', '2021-04-24 16:43:08', '2021-04-24 16:43:09', '2021-04-24 16:43:10', '2021-04-24 16:43:11', '2021-04-24 16:43:13', '2021-04-24 16:43:14', '2021-04-24 16:43:15', '2021-04-24 16:43:16', '2021-04-24 16:43:17', '2021-04-24 16:43:18', '2021-04-24 16:43:19', '2021-04-24 16:43:20', '2021-04-24 16:43:21', '2021-04-24 16:43:23', '2021-04-24 16:43:24', '2021-04-24 16:43:25', '2021-04-24 16:43:26', '2021-04-24 16:43:27', '2021-04-24 16:43:28', '2021-04-24 16:43:29', '2021-04-24 16:43:30', '2021-04-24 16:43:31', '2021-04-24 16:43:32', '2021-04-24 16:43:33', '2021-04-24 16:43:34', '2021-04-24 16:43:35', '2021-04-24 16:53:36', '2021-04-24 17:00:35', '2021-04-24 17:05:14', '2021-04-24 17:08:34', '2021-04-24 17:09:54', '2021-04-24 17:10:52', '2021-04-24 17:20:34', '2021-04-24 17:32:23', '2021-04-24 17:53:48', '2021-04-24 18:39:31', '2021-04-24 18:45:07', '2021-04-24 18:51:12', '2021-04-24 18:54:35', '2021-05-27 18:19:06']\n"
     ]
    }
   ],
   "source": [
    "temp = list((set(news['采集时的时间'])))\n",
    "temp.sort()\n",
    "print(temp)"
   ]
  },
  {
   "cell_type": "markdown",
   "metadata": {},
   "source": [
    "我们得到了4492条新闻，其中每一条新闻由标题、标题链接、brief、keywords、发布时间、新闻类别、采集时的时间构成。其中新闻类别包括15个类别，采集时的时间包括2021-04-24 16:42:20到16:43:35，以及2021-04-24 16:53:36到2021-04-24 18:54:35，还有2021-05-27 18:19:06。"
   ]
  },
  {
   "cell_type": "code",
   "execution_count": 284,
   "metadata": {},
   "outputs": [
    {
     "name": "stdout",
     "output_type": "stream",
     "text": [
      "length of news: 4492\n",
      "rows with blank 标题 75\n",
      "rows with blank brief 9\n",
      "rows with blank keywords 1220\n",
      "rows with blank 采集时的时间 0\n",
      "rows with blank 新闻类别 0\n"
     ]
    }
   ],
   "source": [
    "# important columns: 标题、brief、keywords、采集时的时间, label: 新闻类别\n",
    "print('length of news:', len(news))\n",
    "print('rows with blank 标题', len(news) - len(news['标题'].dropna()))\n",
    "print('rows with blank brief', len(news) - len(news['brief'].dropna()))\n",
    "print('rows with blank keywords', len(news) - len(news['keywords'].dropna()))\n",
    "print('rows with blank 采集时的时间', len(news) - len(news['采集时的时间'].dropna()))\n",
    "print('rows with blank 新闻类别', len(news) - len(news['新闻类别'].dropna()))"
   ]
  },
  {
   "cell_type": "code",
   "execution_count": 285,
   "metadata": {},
   "outputs": [
    {
     "data": {
      "text/html": [
       "<div>\n",
       "<style scoped>\n",
       "    .dataframe tbody tr th:only-of-type {\n",
       "        vertical-align: middle;\n",
       "    }\n",
       "\n",
       "    .dataframe tbody tr th {\n",
       "        vertical-align: top;\n",
       "    }\n",
       "\n",
       "    .dataframe thead th {\n",
       "        text-align: right;\n",
       "    }\n",
       "</style>\n",
       "<table border=\"1\" class=\"dataframe\">\n",
       "  <thead>\n",
       "    <tr style=\"text-align: right;\">\n",
       "      <th></th>\n",
       "      <th>标题</th>\n",
       "      <th>标题链接</th>\n",
       "      <th>brief</th>\n",
       "      <th>keywords</th>\n",
       "      <th>发布时间</th>\n",
       "      <th>新闻类别</th>\n",
       "      <th>采集时的时间</th>\n",
       "    </tr>\n",
       "  </thead>\n",
       "  <tbody>\n",
       "    <tr>\n",
       "      <th>2021</th>\n",
       "      <td>广西南宁：勤训轮换，贴近实战砺精兵</td>\n",
       "      <td>https://military.cctv.com/2021/04/17/PHOATCGTO...</td>\n",
       "      <td>NaN</td>\n",
       "      <td>武警,任务实际,军事训练,集训</td>\n",
       "      <td>2021-04-17</td>\n",
       "      <td>军事</td>\n",
       "      <td>2021-04-24 17:53:48</td>\n",
       "    </tr>\n",
       "    <tr>\n",
       "      <th>2028</th>\n",
       "      <td>武警防城港支队：多课目实战训练 锤炼反恐尖兵</td>\n",
       "      <td>https://military.cctv.com/2021/04/15/PHOAWRLvg...</td>\n",
       "      <td>NaN</td>\n",
       "      <td>武警,实战训练,反恐尖兵</td>\n",
       "      <td>2021-04-15</td>\n",
       "      <td>军事</td>\n",
       "      <td>2021-04-24 17:53:48</td>\n",
       "    </tr>\n",
       "    <tr>\n",
       "      <th>2029</th>\n",
       "      <td>雷霆出击 克敌制胜：武警广西总队贺州支队特战分队开展反恐综合演练影像</td>\n",
       "      <td>https://military.cctv.com/2021/04/15/PHOA9qWDH...</td>\n",
       "      <td>NaN</td>\n",
       "      <td>武警,特战分队,反恐,演练</td>\n",
       "      <td>2021-04-15</td>\n",
       "      <td>军事</td>\n",
       "      <td>2021-04-24 17:53:48</td>\n",
       "    </tr>\n",
       "    <tr>\n",
       "      <th>2038</th>\n",
       "      <td>广西贵港：武警官兵实战化训练锻造过硬本领</td>\n",
       "      <td>https://military.cctv.com/2021/04/12/PHOArzAlm...</td>\n",
       "      <td>NaN</td>\n",
       "      <td>武警,官兵,实战化,训练,锻造</td>\n",
       "      <td>2021-04-12</td>\n",
       "      <td>军事</td>\n",
       "      <td>2021-04-24 17:53:48</td>\n",
       "    </tr>\n",
       "    <tr>\n",
       "      <th>2081</th>\n",
       "      <td>北部湾畔激战正酣，看特战队员们火力全开！</td>\n",
       "      <td>https://military.cctv.com/2021/04/03/PHOAz2jbg...</td>\n",
       "      <td>NaN</td>\n",
       "      <td>北部湾,特战队员,射击,反恐</td>\n",
       "      <td>2021-04-03</td>\n",
       "      <td>军事</td>\n",
       "      <td>2021-04-24 17:53:48</td>\n",
       "    </tr>\n",
       "    <tr>\n",
       "      <th>2085</th>\n",
       "      <td>酷！一组图带你直击武警特战队员训练精彩瞬间</td>\n",
       "      <td>https://military.cctv.com/2021/04/02/PHOAd8IKd...</td>\n",
       "      <td>NaN</td>\n",
       "      <td>武警,特战队员,精彩瞬间</td>\n",
       "      <td>2021-04-02</td>\n",
       "      <td>军事</td>\n",
       "      <td>2021-04-24 17:53:48</td>\n",
       "    </tr>\n",
       "    <tr>\n",
       "      <th>2086</th>\n",
       "      <td>广西北海：武警反恐演练 提升实战能力</td>\n",
       "      <td>https://military.cctv.com/2021/04/02/PHOAm1e6U...</td>\n",
       "      <td>NaN</td>\n",
       "      <td>武警,反恐演练,实战能力</td>\n",
       "      <td>2021-04-02</td>\n",
       "      <td>军事</td>\n",
       "      <td>2021-04-24 17:53:48</td>\n",
       "    </tr>\n",
       "    <tr>\n",
       "      <th>2091</th>\n",
       "      <td>指挥引导 联合作战：织密海空信息网</td>\n",
       "      <td>https://military.cctv.com/2021/04/01/PHOANtvc1...</td>\n",
       "      <td>NaN</td>\n",
       "      <td>海空,信息网,联合作战,海军航空兵</td>\n",
       "      <td>2021-04-01</td>\n",
       "      <td>军事</td>\n",
       "      <td>2021-04-24 17:53:48</td>\n",
       "    </tr>\n",
       "    <tr>\n",
       "      <th>2101</th>\n",
       "      <td>七天六夜“魔鬼周”看特战队员的涅槃之路</td>\n",
       "      <td>https://military.cctv.com/2021/03/31/PHOALSUT1...</td>\n",
       "      <td>NaN</td>\n",
       "      <td>魔鬼周,特战队员,涅槃之路</td>\n",
       "      <td>2021-03-31</td>\n",
       "      <td>军事</td>\n",
       "      <td>2021-04-24 17:53:48</td>\n",
       "    </tr>\n",
       "  </tbody>\n",
       "</table>\n",
       "</div>"
      ],
      "text/plain": [
       "                                      标题  \\\n",
       "2021                   广西南宁：勤训轮换，贴近实战砺精兵   \n",
       "2028              武警防城港支队：多课目实战训练 锤炼反恐尖兵   \n",
       "2029  雷霆出击 克敌制胜：武警广西总队贺州支队特战分队开展反恐综合演练影像   \n",
       "2038                广西贵港：武警官兵实战化训练锻造过硬本领   \n",
       "2081                北部湾畔激战正酣，看特战队员们火力全开！   \n",
       "2085               酷！一组图带你直击武警特战队员训练精彩瞬间   \n",
       "2086                  广西北海：武警反恐演练 提升实战能力   \n",
       "2091                   指挥引导 联合作战：织密海空信息网   \n",
       "2101                 七天六夜“魔鬼周”看特战队员的涅槃之路   \n",
       "\n",
       "                                                   标题链接 brief  \\\n",
       "2021  https://military.cctv.com/2021/04/17/PHOATCGTO...   NaN   \n",
       "2028  https://military.cctv.com/2021/04/15/PHOAWRLvg...   NaN   \n",
       "2029  https://military.cctv.com/2021/04/15/PHOA9qWDH...   NaN   \n",
       "2038  https://military.cctv.com/2021/04/12/PHOArzAlm...   NaN   \n",
       "2081  https://military.cctv.com/2021/04/03/PHOAz2jbg...   NaN   \n",
       "2085  https://military.cctv.com/2021/04/02/PHOAd8IKd...   NaN   \n",
       "2086  https://military.cctv.com/2021/04/02/PHOAm1e6U...   NaN   \n",
       "2091  https://military.cctv.com/2021/04/01/PHOANtvc1...   NaN   \n",
       "2101  https://military.cctv.com/2021/03/31/PHOALSUT1...   NaN   \n",
       "\n",
       "               keywords        发布时间 新闻类别               采集时的时间  \n",
       "2021    武警,任务实际,军事训练,集训  2021-04-17   军事  2021-04-24 17:53:48  \n",
       "2028       武警,实战训练,反恐尖兵  2021-04-15   军事  2021-04-24 17:53:48  \n",
       "2029      武警,特战分队,反恐,演练  2021-04-15   军事  2021-04-24 17:53:48  \n",
       "2038    武警,官兵,实战化,训练,锻造  2021-04-12   军事  2021-04-24 17:53:48  \n",
       "2081     北部湾,特战队员,射击,反恐  2021-04-03   军事  2021-04-24 17:53:48  \n",
       "2085       武警,特战队员,精彩瞬间  2021-04-02   军事  2021-04-24 17:53:48  \n",
       "2086       武警,反恐演练,实战能力  2021-04-02   军事  2021-04-24 17:53:48  \n",
       "2091  海空,信息网,联合作战,海军航空兵  2021-04-01   军事  2021-04-24 17:53:48  \n",
       "2101      魔鬼周,特战队员,涅槃之路  2021-03-31   军事  2021-04-24 17:53:48  "
      ]
     },
     "execution_count": 285,
     "metadata": {},
     "output_type": "execute_result"
    }
   ],
   "source": [
    "news[news['brief'].isna()]"
   ]
  },
  {
   "cell_type": "code",
   "execution_count": 286,
   "metadata": {},
   "outputs": [],
   "source": [
    "# replace the black brief with '标题'\n",
    "values = news[news['brief'].isna()]['标题']\n",
    "news['brief'].fillna(value = values, inplace = True)"
   ]
  },
  {
   "cell_type": "code",
   "execution_count": 287,
   "metadata": {},
   "outputs": [
    {
     "data": {
      "text/html": [
       "<div>\n",
       "<style scoped>\n",
       "    .dataframe tbody tr th:only-of-type {\n",
       "        vertical-align: middle;\n",
       "    }\n",
       "\n",
       "    .dataframe tbody tr th {\n",
       "        vertical-align: top;\n",
       "    }\n",
       "\n",
       "    .dataframe thead th {\n",
       "        text-align: right;\n",
       "    }\n",
       "</style>\n",
       "<table border=\"1\" class=\"dataframe\">\n",
       "  <thead>\n",
       "    <tr style=\"text-align: right;\">\n",
       "      <th></th>\n",
       "      <th>标题</th>\n",
       "      <th>标题链接</th>\n",
       "      <th>brief</th>\n",
       "      <th>keywords</th>\n",
       "      <th>发布时间</th>\n",
       "      <th>新闻类别</th>\n",
       "      <th>采集时的时间</th>\n",
       "    </tr>\n",
       "  </thead>\n",
       "  <tbody>\n",
       "    <tr>\n",
       "      <th>2369</th>\n",
       "      <td>四川内江：乡土人才“四聚焦” 助力乡村振兴</td>\n",
       "      <td>https://sannong.cctv.com/2021/04/23/ARTI8OIQZS...</td>\n",
       "      <td>['乡村要振兴，人才是关键。四川省内江市市中区紧扣乡村人才振兴发展战略，聚焦乡土人才“引”“...</td>\n",
       "      <td>NaN</td>\n",
       "      <td>21-4-23</td>\n",
       "      <td>三农</td>\n",
       "      <td>2021-04-24 18:39:31</td>\n",
       "    </tr>\n",
       "    <tr>\n",
       "      <th>2370</th>\n",
       "      <td>农业农村部：猪肉均价比22日下降0.3%</td>\n",
       "      <td>https://sannong.cctv.com/2021/04/23/ARTIqWfPxb...</td>\n",
       "      <td>['据农业农村部监测，4月23日“农产品批发价格200指数”为119.38，比4月22日下降...</td>\n",
       "      <td>NaN</td>\n",
       "      <td>21-4-23</td>\n",
       "      <td>三农</td>\n",
       "      <td>2021-04-24 18:39:31</td>\n",
       "    </tr>\n",
       "    <tr>\n",
       "      <th>2371</th>\n",
       "      <td>克里米亚8万多支郁金香竞相开放 花期持续到5月中旬</td>\n",
       "      <td>https://sannong.cctv.com/2021/04/23/ARTIP1uOkQ...</td>\n",
       "      <td>['据俄罗斯媒体报道，近日，在克里米亚尼基茨基植物园，年度郁金香花展开幕，8万多支数百个品种...</td>\n",
       "      <td>NaN</td>\n",
       "      <td>21-4-23</td>\n",
       "      <td>三农</td>\n",
       "      <td>2021-04-24 18:39:31</td>\n",
       "    </tr>\n",
       "    <tr>\n",
       "      <th>2372</th>\n",
       "      <td>农业农村部对一系列重大工程项目开展全面排查 包括重大试点类任务</td>\n",
       "      <td>https://sannong.cctv.com/2021/04/23/ARTIdCSmjA...</td>\n",
       "      <td>['播放视频农业农村部有关负责人表示，“十四五”期间，全面实施乡村振兴战略的一系列重大工程、...</td>\n",
       "      <td>NaN</td>\n",
       "      <td>21-4-23</td>\n",
       "      <td>三农</td>\n",
       "      <td>2021-04-24 18:39:31</td>\n",
       "    </tr>\n",
       "    <tr>\n",
       "      <th>2373</th>\n",
       "      <td>四川、贵州、青海三省加大金融投入 服务乡村振兴</td>\n",
       "      <td>https://sannong.cctv.com/2021/04/23/ARTIk0BJdZ...</td>\n",
       "      <td>['播放视频银保监会4月22日召开新闻发布会。四川、贵州、青海三省银保监局负责人介绍了银行业...</td>\n",
       "      <td>NaN</td>\n",
       "      <td>21-4-23</td>\n",
       "      <td>三农</td>\n",
       "      <td>2021-04-24 18:39:31</td>\n",
       "    </tr>\n",
       "    <tr>\n",
       "      <th>...</th>\n",
       "      <td>...</td>\n",
       "      <td>...</td>\n",
       "      <td>...</td>\n",
       "      <td>...</td>\n",
       "      <td>...</td>\n",
       "      <td>...</td>\n",
       "      <td>...</td>\n",
       "    </tr>\n",
       "    <tr>\n",
       "      <th>4356</th>\n",
       "      <td>瑞犬迎春——典藏中的犬文化</td>\n",
       "      <td>http://arts.cctv.com/2018/02/27/ARTIkD6BvvBGRy...</td>\n",
       "      <td>农历戊戌年来临，戌年的生肖是犬。在中国古代，对犬多加好评。晋人傅玄曾作赋咏犬，开篇就说：“盖...</td>\n",
       "      <td>NaN</td>\n",
       "      <td>NaN</td>\n",
       "      <td>书画</td>\n",
       "      <td>2021-05-27 18:19:06</td>\n",
       "    </tr>\n",
       "    <tr>\n",
       "      <th>4357</th>\n",
       "      <td>元宵喜迎春 从《明宪宗元宵行乐图》看古人过元宵</td>\n",
       "      <td>http://arts.cctv.com/2018/02/27/ARTI3vlfP8QqhV...</td>\n",
       "      <td>从宋代孟元老《东京梦华录》、吴自牧《梦粱录》、周密《武林旧事》书中记载可知，早在宋代，对于元...</td>\n",
       "      <td>NaN</td>\n",
       "      <td>NaN</td>\n",
       "      <td>书画</td>\n",
       "      <td>2021-05-27 18:19:06</td>\n",
       "    </tr>\n",
       "    <tr>\n",
       "      <th>4358</th>\n",
       "      <td>“韵人雅和”庆新春（下篇）</td>\n",
       "      <td>http://arts.cctv.com/2018/02/24/ARTI3KrpHqBXFx...</td>\n",
       "      <td>今年新春伊始，中华诗词学会常务副会长、《中华诗词》杂志社社长李文朝将军一首内涵丰富、寓意深刻...</td>\n",
       "      <td>NaN</td>\n",
       "      <td>NaN</td>\n",
       "      <td>书画</td>\n",
       "      <td>2021-05-27 18:19:06</td>\n",
       "    </tr>\n",
       "    <tr>\n",
       "      <th>4359</th>\n",
       "      <td>“韵人雅和”庆新春（中篇）</td>\n",
       "      <td>http://arts.cctv.com/2018/02/24/ARTIKjT0Z1Dx78...</td>\n",
       "      <td>今年新春伊始，中华诗词学会常务副会长、《中华诗词》杂志社社长李文朝将军一首内涵丰富、寓意深刻...</td>\n",
       "      <td>NaN</td>\n",
       "      <td>NaN</td>\n",
       "      <td>书画</td>\n",
       "      <td>2021-05-27 18:19:06</td>\n",
       "    </tr>\n",
       "    <tr>\n",
       "      <th>4360</th>\n",
       "      <td>“韵人雅和”庆新春（上篇）</td>\n",
       "      <td>http://arts.cctv.com/2018/02/23/ARTIKC2gMLit2Q...</td>\n",
       "      <td>今年新春伊始，中华诗词学会常务副会长、《中华诗词》杂志社社长李文朝将军一首内涵丰富、寓意深刻...</td>\n",
       "      <td>NaN</td>\n",
       "      <td>NaN</td>\n",
       "      <td>书画</td>\n",
       "      <td>2021-05-27 18:19:06</td>\n",
       "    </tr>\n",
       "  </tbody>\n",
       "</table>\n",
       "<p>1220 rows × 7 columns</p>\n",
       "</div>"
      ],
      "text/plain": [
       "                                   标题  \\\n",
       "2369            四川内江：乡土人才“四聚焦” 助力乡村振兴   \n",
       "2370             农业农村部：猪肉均价比22日下降0.3%   \n",
       "2371        克里米亚8万多支郁金香竞相开放 花期持续到5月中旬   \n",
       "2372  农业农村部对一系列重大工程项目开展全面排查 包括重大试点类任务   \n",
       "2373          四川、贵州、青海三省加大金融投入 服务乡村振兴   \n",
       "...                               ...   \n",
       "4356                    瑞犬迎春——典藏中的犬文化   \n",
       "4357          元宵喜迎春 从《明宪宗元宵行乐图》看古人过元宵   \n",
       "4358                    “韵人雅和”庆新春（下篇）   \n",
       "4359                    “韵人雅和”庆新春（中篇）   \n",
       "4360                    “韵人雅和”庆新春（上篇）   \n",
       "\n",
       "                                                   标题链接  \\\n",
       "2369  https://sannong.cctv.com/2021/04/23/ARTI8OIQZS...   \n",
       "2370  https://sannong.cctv.com/2021/04/23/ARTIqWfPxb...   \n",
       "2371  https://sannong.cctv.com/2021/04/23/ARTIP1uOkQ...   \n",
       "2372  https://sannong.cctv.com/2021/04/23/ARTIdCSmjA...   \n",
       "2373  https://sannong.cctv.com/2021/04/23/ARTIk0BJdZ...   \n",
       "...                                                 ...   \n",
       "4356  http://arts.cctv.com/2018/02/27/ARTIkD6BvvBGRy...   \n",
       "4357  http://arts.cctv.com/2018/02/27/ARTI3vlfP8QqhV...   \n",
       "4358  http://arts.cctv.com/2018/02/24/ARTI3KrpHqBXFx...   \n",
       "4359  http://arts.cctv.com/2018/02/24/ARTIKjT0Z1Dx78...   \n",
       "4360  http://arts.cctv.com/2018/02/23/ARTIKC2gMLit2Q...   \n",
       "\n",
       "                                                  brief keywords     发布时间  \\\n",
       "2369  ['乡村要振兴，人才是关键。四川省内江市市中区紧扣乡村人才振兴发展战略，聚焦乡土人才“引”“...      NaN  21-4-23   \n",
       "2370  ['据农业农村部监测，4月23日“农产品批发价格200指数”为119.38，比4月22日下降...      NaN  21-4-23   \n",
       "2371  ['据俄罗斯媒体报道，近日，在克里米亚尼基茨基植物园，年度郁金香花展开幕，8万多支数百个品种...      NaN  21-4-23   \n",
       "2372  ['播放视频农业农村部有关负责人表示，“十四五”期间，全面实施乡村振兴战略的一系列重大工程、...      NaN  21-4-23   \n",
       "2373  ['播放视频银保监会4月22日召开新闻发布会。四川、贵州、青海三省银保监局负责人介绍了银行业...      NaN  21-4-23   \n",
       "...                                                 ...      ...      ...   \n",
       "4356  农历戊戌年来临，戌年的生肖是犬。在中国古代，对犬多加好评。晋人傅玄曾作赋咏犬，开篇就说：“盖...      NaN      NaN   \n",
       "4357  从宋代孟元老《东京梦华录》、吴自牧《梦粱录》、周密《武林旧事》书中记载可知，早在宋代，对于元...      NaN      NaN   \n",
       "4358  今年新春伊始，中华诗词学会常务副会长、《中华诗词》杂志社社长李文朝将军一首内涵丰富、寓意深刻...      NaN      NaN   \n",
       "4359  今年新春伊始，中华诗词学会常务副会长、《中华诗词》杂志社社长李文朝将军一首内涵丰富、寓意深刻...      NaN      NaN   \n",
       "4360  今年新春伊始，中华诗词学会常务副会长、《中华诗词》杂志社社长李文朝将军一首内涵丰富、寓意深刻...      NaN      NaN   \n",
       "\n",
       "     新闻类别               采集时的时间  \n",
       "2369   三农  2021-04-24 18:39:31  \n",
       "2370   三农  2021-04-24 18:39:31  \n",
       "2371   三农  2021-04-24 18:39:31  \n",
       "2372   三农  2021-04-24 18:39:31  \n",
       "2373   三农  2021-04-24 18:39:31  \n",
       "...   ...                  ...  \n",
       "4356   书画  2021-05-27 18:19:06  \n",
       "4357   书画  2021-05-27 18:19:06  \n",
       "4358   书画  2021-05-27 18:19:06  \n",
       "4359   书画  2021-05-27 18:19:06  \n",
       "4360   书画  2021-05-27 18:19:06  \n",
       "\n",
       "[1220 rows x 7 columns]"
      ]
     },
     "execution_count": 287,
     "metadata": {},
     "output_type": "execute_result"
    }
   ],
   "source": [
    "# consider to add the keywords to these 1220 rows later\n",
    "news[news['keywords'].isna()]"
   ]
  },
  {
   "cell_type": "code",
   "execution_count": 288,
   "metadata": {},
   "outputs": [
    {
     "data": {
      "text/plain": [
       "'上周，两档团体偶像节目扎堆更新，《创造营2021》和《青春有你3》还首次在同一档期正面对抗，一次性上线200多位练习生的激烈场面，也再次将国内偶像团体综艺节目竞争的白热化摆到了台前。'"
      ]
     },
     "execution_count": 288,
     "metadata": {},
     "output_type": "execute_result"
    }
   ],
   "source": [
    "# 将每一篇文章转换成一个list\n",
    "brief = news.brief.values.tolist()\n",
    "brief[4491]"
   ]
  },
  {
   "cell_type": "markdown",
   "metadata": {},
   "source": [
    "# 2.分词"
   ]
  },
  {
   "cell_type": "code",
   "execution_count": 114,
   "metadata": {},
   "outputs": [
    {
     "name": "stdout",
     "output_type": "stream",
     "text": [
      "Collecting jieba\n",
      "  Downloading jieba-0.42.1.tar.gz (19.2 MB)\n",
      "\u001b[K     |████████████████████████████████| 19.2 MB 5.1 MB/s eta 0:00:01    |██████                          | 3.6 MB 3.5 MB/s eta 0:00:05\n",
      "\u001b[?25hBuilding wheels for collected packages: jieba\n",
      "  Building wheel for jieba (setup.py) ... \u001b[?25ldone\n",
      "\u001b[?25h  Created wheel for jieba: filename=jieba-0.42.1-py3-none-any.whl size=19314478 sha256=6eaa46a13a01855f215f1ea82f24440f03cf363f2b16cefefec8ad7855672e7a\n",
      "  Stored in directory: /Users/xinyue/Library/Caches/pip/wheels/ca/38/d8/dfdfe73bec1d12026b30cb7ce8da650f3f0ea2cf155ea018ae\n",
      "Successfully built jieba\n",
      "Installing collected packages: jieba\n",
      "Successfully installed jieba-0.42.1\n"
     ]
    }
   ],
   "source": [
    "# !pip install jieba\n",
    "import jieba\n",
    "import os"
   ]
  },
  {
   "cell_type": "code",
   "execution_count": 337,
   "metadata": {},
   "outputs": [],
   "source": [
    "brief_S = []\n",
    "for page in brief:\n",
    "    current_segment = jieba.lcut(page) #对每一篇文章进行分词\n",
    "    if len(current_segment) > 1 and current_segment != '\\r\\n': #换行符\n",
    "        brief_S.append(current_segment) #保存分词的结果"
   ]
  },
  {
   "cell_type": "code",
   "execution_count": 338,
   "metadata": {},
   "outputs": [
    {
     "name": "stdout",
     "output_type": "stream",
     "text": [
      "['上周', '，', '两档', '团体', '偶像', '节目', '扎堆', '更新', '，', '《', '创造', '营', '2021', '》', '和', '《', '青春', '有', '你', '3', '》', '还', '首次', '在', '同一', '档期', '正面', '对抗', '，', '一次性', '上线', '200', '多位', '练习生', '的', '激烈', '场面', '，', '也', '再次', '将', '国内', '偶像', '团体', '综艺节目', '竞争', '的', '白热化', '摆到', '了', '台前', '。']\n"
     ]
    }
   ],
   "source": [
    "print(brief_S[4491])"
   ]
  },
  {
   "cell_type": "code",
   "execution_count": 339,
   "metadata": {},
   "outputs": [
    {
     "data": {
      "text/html": [
       "<div>\n",
       "<style scoped>\n",
       "    .dataframe tbody tr th:only-of-type {\n",
       "        vertical-align: middle;\n",
       "    }\n",
       "\n",
       "    .dataframe tbody tr th {\n",
       "        vertical-align: top;\n",
       "    }\n",
       "\n",
       "    .dataframe thead th {\n",
       "        text-align: right;\n",
       "    }\n",
       "</style>\n",
       "<table border=\"1\" class=\"dataframe\">\n",
       "  <thead>\n",
       "    <tr style=\"text-align: right;\">\n",
       "      <th></th>\n",
       "      <th>brief_S</th>\n",
       "    </tr>\n",
       "  </thead>\n",
       "  <tbody>\n",
       "    <tr>\n",
       "      <th>0</th>\n",
       "      <td>[赣州, 各级, 法院, 审理, 的, 14, 起, 案件, 中, ，, 诈骗, 分子, 假...</td>\n",
       "    </tr>\n",
       "    <tr>\n",
       "      <th>1</th>\n",
       "      <td>[针对, 网传, “, 未成年, 女孩, 遭, 脱衣, 殴打, 欺凌, ”, 视频, ，, ...</td>\n",
       "    </tr>\n",
       "    <tr>\n",
       "      <th>2</th>\n",
       "      <td>[一名, 19, 岁, 的, 小伙儿, 在, 办理, 出国, 护照, 时, ，, 面对, 民...</td>\n",
       "    </tr>\n",
       "    <tr>\n",
       "      <th>3</th>\n",
       "      <td>[山东省, 纪委, 监委, 22, 日, 发布, 通报, ，, 山东省, 威海市, 人大常委...</td>\n",
       "    </tr>\n",
       "    <tr>\n",
       "      <th>4</th>\n",
       "      <td>[据, 湖南, 衡阳市, 衡阳县, 法院, 官方, 微博, 消息, ，, 衡阳县, 人民法院...</td>\n",
       "    </tr>\n",
       "  </tbody>\n",
       "</table>\n",
       "</div>"
      ],
      "text/plain": [
       "                                             brief_S\n",
       "0  [赣州, 各级, 法院, 审理, 的, 14, 起, 案件, 中, ，, 诈骗, 分子, 假...\n",
       "1  [针对, 网传, “, 未成年, 女孩, 遭, 脱衣, 殴打, 欺凌, ”, 视频, ，, ...\n",
       "2  [一名, 19, 岁, 的, 小伙儿, 在, 办理, 出国, 护照, 时, ，, 面对, 民...\n",
       "3  [山东省, 纪委, 监委, 22, 日, 发布, 通报, ，, 山东省, 威海市, 人大常委...\n",
       "4  [据, 湖南, 衡阳市, 衡阳县, 法院, 官方, 微博, 消息, ，, 衡阳县, 人民法院..."
      ]
     },
     "execution_count": 339,
     "metadata": {},
     "output_type": "execute_result"
    }
   ],
   "source": [
    "df_brief=pd.DataFrame({'brief_S':brief_S}) #专门展示分词后的结果\n",
    "df_brief.head()"
   ]
  },
  {
   "cell_type": "code",
   "execution_count": 340,
   "metadata": {},
   "outputs": [
    {
     "data": {
      "text/html": [
       "<div>\n",
       "<style scoped>\n",
       "    .dataframe tbody tr th:only-of-type {\n",
       "        vertical-align: middle;\n",
       "    }\n",
       "\n",
       "    .dataframe tbody tr th {\n",
       "        vertical-align: top;\n",
       "    }\n",
       "\n",
       "    .dataframe thead th {\n",
       "        text-align: right;\n",
       "    }\n",
       "</style>\n",
       "<table border=\"1\" class=\"dataframe\">\n",
       "  <thead>\n",
       "    <tr style=\"text-align: right;\">\n",
       "      <th></th>\n",
       "      <th>stopword</th>\n",
       "    </tr>\n",
       "  </thead>\n",
       "  <tbody>\n",
       "    <tr>\n",
       "      <th>0</th>\n",
       "      <td>!</td>\n",
       "    </tr>\n",
       "    <tr>\n",
       "      <th>1</th>\n",
       "      <td>\"</td>\n",
       "    </tr>\n",
       "    <tr>\n",
       "      <th>2</th>\n",
       "      <td>#</td>\n",
       "    </tr>\n",
       "    <tr>\n",
       "      <th>3</th>\n",
       "      <td>$</td>\n",
       "    </tr>\n",
       "    <tr>\n",
       "      <th>4</th>\n",
       "      <td>%</td>\n",
       "    </tr>\n",
       "    <tr>\n",
       "      <th>5</th>\n",
       "      <td>&amp;</td>\n",
       "    </tr>\n",
       "    <tr>\n",
       "      <th>6</th>\n",
       "      <td>'</td>\n",
       "    </tr>\n",
       "    <tr>\n",
       "      <th>7</th>\n",
       "      <td>(</td>\n",
       "    </tr>\n",
       "    <tr>\n",
       "      <th>8</th>\n",
       "      <td>)</td>\n",
       "    </tr>\n",
       "    <tr>\n",
       "      <th>9</th>\n",
       "      <td>*</td>\n",
       "    </tr>\n",
       "  </tbody>\n",
       "</table>\n",
       "</div>"
      ],
      "text/plain": [
       "  stopword\n",
       "0        !\n",
       "1        \"\n",
       "2        #\n",
       "3        $\n",
       "4        %\n",
       "5        &\n",
       "6        '\n",
       "7        (\n",
       "8        )\n",
       "9        *"
      ]
     },
     "execution_count": 340,
     "metadata": {},
     "output_type": "execute_result"
    }
   ],
   "source": [
    "# 加载停用词字典数据进行数据清洗\n",
    "stopwords=pd.read_csv(\"stopwords.txt\",index_col=False,sep=\"\\t\",quoting=3,names=['stopword'], encoding='utf-8')\n",
    "stopwords.head(10)"
   ]
  },
  {
   "cell_type": "code",
   "execution_count": 341,
   "metadata": {},
   "outputs": [],
   "source": [
    "def drop_stopwords(contents,stopwords):\n",
    "    contents_clean = []\n",
    "    all_words = []\n",
    "    for line in contents:\n",
    "        line_clean = []\n",
    "        for word in line:\n",
    "            if word in stopwords:\n",
    "                continue\n",
    "            line_clean.append(word)\n",
    "            all_words.append(str(word))\n",
    "        contents_clean.append(line_clean)\n",
    "    return contents_clean,all_words  "
   ]
  },
  {
   "cell_type": "code",
   "execution_count": 342,
   "metadata": {},
   "outputs": [],
   "source": [
    "contents = df_brief.brief_S.values.tolist()    \n",
    "stopwords = stopwords.stopword.values.tolist()\n",
    "brief_clean, all_words = drop_stopwords(contents,stopwords)"
   ]
  },
  {
   "cell_type": "code",
   "execution_count": 343,
   "metadata": {},
   "outputs": [
    {
     "data": {
      "text/html": [
       "<div>\n",
       "<style scoped>\n",
       "    .dataframe tbody tr th:only-of-type {\n",
       "        vertical-align: middle;\n",
       "    }\n",
       "\n",
       "    .dataframe tbody tr th {\n",
       "        vertical-align: top;\n",
       "    }\n",
       "\n",
       "    .dataframe thead th {\n",
       "        text-align: right;\n",
       "    }\n",
       "</style>\n",
       "<table border=\"1\" class=\"dataframe\">\n",
       "  <thead>\n",
       "    <tr style=\"text-align: right;\">\n",
       "      <th></th>\n",
       "      <th>brief_clean</th>\n",
       "    </tr>\n",
       "  </thead>\n",
       "  <tbody>\n",
       "    <tr>\n",
       "      <th>4487</th>\n",
       "      <td>[2020, 河南, 博物院, 考古, 盲盒, 火]</td>\n",
       "    </tr>\n",
       "    <tr>\n",
       "      <th>4488</th>\n",
       "      <td>[国家, 宝藏, 国宝, 说话, 文博, 类节目, 观众, 拉近, 历史, 文化遗产, 观众...</td>\n",
       "    </tr>\n",
       "    <tr>\n",
       "      <th>4489</th>\n",
       "      <td>[多部, 国产, 剧, 外国, 影视, 公司, 翻拍, 一种, 文化, 现象, 翻拍, 国产...</td>\n",
       "    </tr>\n",
       "    <tr>\n",
       "      <th>4490</th>\n",
       "      <td>[今年春节, 档, 国内, 电影, 市场, 异常, 火爆, 创造, 多项, 新纪录, 七大,...</td>\n",
       "    </tr>\n",
       "    <tr>\n",
       "      <th>4491</th>\n",
       "      <td>[上周, 两档, 团体, 偶像, 节目, 扎堆, 更新, 创造, 营, 2021, 青春, ...</td>\n",
       "    </tr>\n",
       "  </tbody>\n",
       "</table>\n",
       "</div>"
      ],
      "text/plain": [
       "                                            brief_clean\n",
       "4487                         [2020, 河南, 博物院, 考古, 盲盒, 火]\n",
       "4488  [国家, 宝藏, 国宝, 说话, 文博, 类节目, 观众, 拉近, 历史, 文化遗产, 观众...\n",
       "4489  [多部, 国产, 剧, 外国, 影视, 公司, 翻拍, 一种, 文化, 现象, 翻拍, 国产...\n",
       "4490  [今年春节, 档, 国内, 电影, 市场, 异常, 火爆, 创造, 多项, 新纪录, 七大,...\n",
       "4491  [上周, 两档, 团体, 偶像, 节目, 扎堆, 更新, 创造, 营, 2021, 青春, ..."
      ]
     },
     "execution_count": 343,
     "metadata": {},
     "output_type": "execute_result"
    }
   ],
   "source": [
    "df_brief=pd.DataFrame({'brief_clean': brief_clean})\n",
    "df_brief.tail()"
   ]
  },
  {
   "cell_type": "code",
   "execution_count": 344,
   "metadata": {},
   "outputs": [
    {
     "data": {
      "text/html": [
       "<div>\n",
       "<style scoped>\n",
       "    .dataframe tbody tr th:only-of-type {\n",
       "        vertical-align: middle;\n",
       "    }\n",
       "\n",
       "    .dataframe tbody tr th {\n",
       "        vertical-align: top;\n",
       "    }\n",
       "\n",
       "    .dataframe thead th {\n",
       "        text-align: right;\n",
       "    }\n",
       "</style>\n",
       "<table border=\"1\" class=\"dataframe\">\n",
       "  <thead>\n",
       "    <tr style=\"text-align: right;\">\n",
       "      <th></th>\n",
       "      <th>all_words</th>\n",
       "    </tr>\n",
       "  </thead>\n",
       "  <tbody>\n",
       "    <tr>\n",
       "      <th>122923</th>\n",
       "      <td>综艺节目</td>\n",
       "    </tr>\n",
       "    <tr>\n",
       "      <th>122924</th>\n",
       "      <td>竞争</td>\n",
       "    </tr>\n",
       "    <tr>\n",
       "      <th>122925</th>\n",
       "      <td>白热化</td>\n",
       "    </tr>\n",
       "    <tr>\n",
       "      <th>122926</th>\n",
       "      <td>摆到</td>\n",
       "    </tr>\n",
       "    <tr>\n",
       "      <th>122927</th>\n",
       "      <td>台前</td>\n",
       "    </tr>\n",
       "  </tbody>\n",
       "</table>\n",
       "</div>"
      ],
      "text/plain": [
       "       all_words\n",
       "122923      综艺节目\n",
       "122924        竞争\n",
       "122925       白热化\n",
       "122926        摆到\n",
       "122927        台前"
      ]
     },
     "execution_count": 344,
     "metadata": {},
     "output_type": "execute_result"
    }
   ],
   "source": [
    "df_all_words=pd.DataFrame({'all_words':all_words})\n",
    "df_all_words.tail()"
   ]
  },
  {
   "cell_type": "code",
   "execution_count": 294,
   "metadata": {},
   "outputs": [
    {
     "data": {
      "text/plain": [
       "<matplotlib.image.AxesImage at 0x7fda52b90af0>"
      ]
     },
     "execution_count": 294,
     "metadata": {},
     "output_type": "execute_result"
    },
    {
     "data": {
      "image/png": "[encoded data removed]",
      "text/plain": [
       "<Figure size 720x360 with 1 Axes>"
      ]
     },
     "metadata": {
      "needs_background": "light"
     },
     "output_type": "display_data"
    }
   ],
   "source": [
    "# !pip install wordcloud\n",
    "from wordcloud import WordCloud\n",
    "import matplotlib.pyplot as plt\n",
    "%matplotlib inline\n",
    "import matplotlib\n",
    "matplotlib.rcParams['figure.figsize'] = (10.0, 5.0)\n",
    "woordcloud_data = df_all_words.all_words.value_counts()[:100]\n",
    "wordcloud=WordCloud(font_path=\"./data/simhei.ttf\",background_color=\"white\",max_font_size=80)\n",
    "wordcloud=wordcloud.fit_words(woordcloud_data)\n",
    "plt.imshow(wordcloud)"
   ]
  },
  {
   "cell_type": "markdown",
   "metadata": {},
   "source": [
    "# 3. TF-IDF：提取关键词"
   ]
  },
  {
   "cell_type": "code",
   "execution_count": 295,
   "metadata": {},
   "outputs": [
    {
     "name": "stdout",
     "output_type": "stream",
     "text": [
      "上周，两档团体偶像节目扎堆更新，《创造营2021》和《青春有你3》还首次在同一档期正面对抗，一次性上线200多位练习生的激烈场面，也再次将国内偶像团体综艺节目竞争的白热化摆到了台前。\n",
      "偶像  团体  练习生  两档  2021\n"
     ]
    }
   ],
   "source": [
    "import jieba.analyse #工具包\n",
    "index = 4491\n",
    "brief_S_str = \"\".join(brief_S[index]) #把分词的结果组合在一起，形成一个句子\n",
    "print (brief_S_str) #打印这个句子\n",
    "print (\"  \".join(jieba.analyse.extract_tags(brief_S_str, topK=5, withWeight=False)))#选出来5个核心词"
   ]
  },
  {
   "cell_type": "code",
   "execution_count": 296,
   "metadata": {},
   "outputs": [
    {
     "name": "stdout",
     "output_type": "stream",
     "text": [
      "4491    男团,偶像节目,代际危机\n",
      "Name: keywords, dtype: object\n"
     ]
    }
   ],
   "source": [
    "print(news['keywords'][[4491]])"
   ]
  },
  {
   "cell_type": "markdown",
   "metadata": {},
   "source": [
    "还是很不一样的。"
   ]
  },
  {
   "cell_type": "code",
   "execution_count": 297,
   "metadata": {},
   "outputs": [],
   "source": [
    "# fill in all keywords\n",
    "values = []\n",
    "for index, row in news[news['keywords'].isna()].iterrows():\n",
    "    value = \",\".join(jieba.analyse.extract_tags(row['brief'], topK=5, withWeight=False))\n",
    "    news.iloc[index]['keywords'] = value"
   ]
  },
  {
   "cell_type": "code",
   "execution_count": 298,
   "metadata": {},
   "outputs": [
    {
     "data": {
      "text/plain": [
       "0"
      ]
     },
     "execution_count": 298,
     "metadata": {},
     "output_type": "execute_result"
    }
   ],
   "source": [
    "len(news[news['keywords'].isna()])"
   ]
  },
  {
   "cell_type": "markdown",
   "metadata": {},
   "source": [
    "# 4. 词袋模型"
   ]
  },
  {
   "cell_type": "code",
   "execution_count": 511,
   "metadata": {},
   "outputs": [
    {
     "data": {
      "text/html": [
       "<div>\n",
       "<style scoped>\n",
       "    .dataframe tbody tr th:only-of-type {\n",
       "        vertical-align: middle;\n",
       "    }\n",
       "\n",
       "    .dataframe tbody tr th {\n",
       "        vertical-align: top;\n",
       "    }\n",
       "\n",
       "    .dataframe thead th {\n",
       "        text-align: right;\n",
       "    }\n",
       "</style>\n",
       "<table border=\"1\" class=\"dataframe\">\n",
       "  <thead>\n",
       "    <tr style=\"text-align: right;\">\n",
       "      <th></th>\n",
       "      <th>brief_clean</th>\n",
       "      <th>label</th>\n",
       "      <th>keywords</th>\n",
       "    </tr>\n",
       "  </thead>\n",
       "  <tbody>\n",
       "    <tr>\n",
       "      <th>4487</th>\n",
       "      <td>[2020, 河南, 博物院, 考古, 盲盒, 火]</td>\n",
       "      <td>文娱</td>\n",
       "      <td>考古,文创,盲盒</td>\n",
       "    </tr>\n",
       "    <tr>\n",
       "      <th>4488</th>\n",
       "      <td>[国家, 宝藏, 国宝, 说话, 文博, 类节目, 观众, 拉近, 历史, 文化遗产, 观众...</td>\n",
       "      <td>文娱</td>\n",
       "      <td>文物,国家宝藏,文博</td>\n",
       "    </tr>\n",
       "    <tr>\n",
       "      <th>4489</th>\n",
       "      <td>[多部, 国产, 剧, 外国, 影视, 公司, 翻拍, 一种, 文化, 现象, 翻拍, 国产...</td>\n",
       "      <td>文娱</td>\n",
       "      <td>国产剧</td>\n",
       "    </tr>\n",
       "    <tr>\n",
       "      <th>4490</th>\n",
       "      <td>[今年春节, 档, 国内, 电影, 市场, 异常, 火爆, 创造, 多项, 新纪录, 七大,...</td>\n",
       "      <td>文娱</td>\n",
       "      <td>哪吒,时代语境</td>\n",
       "    </tr>\n",
       "    <tr>\n",
       "      <th>4491</th>\n",
       "      <td>[上周, 两档, 团体, 偶像, 节目, 扎堆, 更新, 创造, 营, 2021, 青春, ...</td>\n",
       "      <td>文娱</td>\n",
       "      <td>男团,偶像节目,代际危机</td>\n",
       "    </tr>\n",
       "  </tbody>\n",
       "</table>\n",
       "</div>"
      ],
      "text/plain": [
       "                                            brief_clean label      keywords\n",
       "4487                         [2020, 河南, 博物院, 考古, 盲盒, 火]    文娱      考古,文创,盲盒\n",
       "4488  [国家, 宝藏, 国宝, 说话, 文博, 类节目, 观众, 拉近, 历史, 文化遗产, 观众...    文娱    文物,国家宝藏,文博\n",
       "4489  [多部, 国产, 剧, 外国, 影视, 公司, 翻拍, 一种, 文化, 现象, 翻拍, 国产...    文娱           国产剧\n",
       "4490  [今年春节, 档, 国内, 电影, 市场, 异常, 火爆, 创造, 多项, 新纪录, 七大,...    文娱       哪吒,时代语境\n",
       "4491  [上周, 两档, 团体, 偶像, 节目, 扎堆, 更新, 创造, 营, 2021, 青春, ...    文娱  男团,偶像节目,代际危机"
      ]
     },
     "execution_count": 511,
     "metadata": {},
     "output_type": "execute_result"
    }
   ],
   "source": [
    "df_train=pd.DataFrame({'brief_clean':brief_clean,'label':news['新闻类别'], 'keywords':news['keywords']})\n",
    "df_train.tail()"
   ]
  },
  {
   "cell_type": "code",
   "execution_count": 512,
   "metadata": {},
   "outputs": [
    {
     "name": "stdout",
     "output_type": "stream",
     "text": [
      "{'国际', '文娱', '军事', '三农', '教育', '书画', '经济', '健康', '科技', '人物', '生活', '社会', '国内', '农经', '法治'}\n"
     ]
    },
    {
     "data": {
      "text/html": [
       "<div>\n",
       "<style scoped>\n",
       "    .dataframe tbody tr th:only-of-type {\n",
       "        vertical-align: middle;\n",
       "    }\n",
       "\n",
       "    .dataframe tbody tr th {\n",
       "        vertical-align: top;\n",
       "    }\n",
       "\n",
       "    .dataframe thead th {\n",
       "        text-align: right;\n",
       "    }\n",
       "</style>\n",
       "<table border=\"1\" class=\"dataframe\">\n",
       "  <thead>\n",
       "    <tr style=\"text-align: right;\">\n",
       "      <th></th>\n",
       "      <th>brief_clean</th>\n",
       "      <th>label</th>\n",
       "      <th>keywords</th>\n",
       "    </tr>\n",
       "  </thead>\n",
       "  <tbody>\n",
       "    <tr>\n",
       "      <th>4487</th>\n",
       "      <td>[2020, 河南, 博物院, 考古, 盲盒, 火]</td>\n",
       "      <td>2</td>\n",
       "      <td>考古,文创,盲盒</td>\n",
       "    </tr>\n",
       "    <tr>\n",
       "      <th>4488</th>\n",
       "      <td>[国家, 宝藏, 国宝, 说话, 文博, 类节目, 观众, 拉近, 历史, 文化遗产, 观众...</td>\n",
       "      <td>2</td>\n",
       "      <td>文物,国家宝藏,文博</td>\n",
       "    </tr>\n",
       "    <tr>\n",
       "      <th>4489</th>\n",
       "      <td>[多部, 国产, 剧, 外国, 影视, 公司, 翻拍, 一种, 文化, 现象, 翻拍, 国产...</td>\n",
       "      <td>2</td>\n",
       "      <td>国产剧</td>\n",
       "    </tr>\n",
       "    <tr>\n",
       "      <th>4490</th>\n",
       "      <td>[今年春节, 档, 国内, 电影, 市场, 异常, 火爆, 创造, 多项, 新纪录, 七大,...</td>\n",
       "      <td>2</td>\n",
       "      <td>哪吒,时代语境</td>\n",
       "    </tr>\n",
       "    <tr>\n",
       "      <th>4491</th>\n",
       "      <td>[上周, 两档, 团体, 偶像, 节目, 扎堆, 更新, 创造, 营, 2021, 青春, ...</td>\n",
       "      <td>2</td>\n",
       "      <td>男团,偶像节目,代际危机</td>\n",
       "    </tr>\n",
       "  </tbody>\n",
       "</table>\n",
       "</div>"
      ],
      "text/plain": [
       "                                            brief_clean  label      keywords\n",
       "4487                         [2020, 河南, 博物院, 考古, 盲盒, 火]      2      考古,文创,盲盒\n",
       "4488  [国家, 宝藏, 国宝, 说话, 文博, 类节目, 观众, 拉近, 历史, 文化遗产, 观众...      2    文物,国家宝藏,文博\n",
       "4489  [多部, 国产, 剧, 外国, 影视, 公司, 翻拍, 一种, 文化, 现象, 翻拍, 国产...      2           国产剧\n",
       "4490  [今年春节, 档, 国内, 电影, 市场, 异常, 火爆, 创造, 多项, 新纪录, 七大,...      2       哪吒,时代语境\n",
       "4491  [上周, 两档, 团体, 偶像, 节目, 扎堆, 更新, 创造, 营, 2021, 青春, ...      2  男团,偶像节目,代际危机"
      ]
     },
     "execution_count": 512,
     "metadata": {},
     "output_type": "execute_result"
    }
   ],
   "source": [
    "# 进行映射关系的处理\n",
    "print(set(news['新闻类别'])) #查看总共有多少个唯一的标签，然后在进行映射\n",
    "label_mapping = {'国际':1, '文娱':2, '军事':3, '三农':4, '教育':5, '书画':6, '经济':7, '健康':8, '科技':9, '人物':10, '生活':11, '社会':12, '国内':13, '农经':14, '法治':15}\n",
    "df_train['label'] = df_train['label'].map(label_mapping) #构建一个映射方法\n",
    "df_train.tail()"
   ]
  },
  {
   "cell_type": "code",
   "execution_count": 696,
   "metadata": {},
   "outputs": [
    {
     "name": "stdout",
     "output_type": "stream",
     "text": [
      "         国际  文娱  军事  三农  教育  书画  经济  健康  科技  人物  生活  社会  国内  农经  法治\n",
      "mapping   1   2   3   4   5   6   7   8   9  10  11  12  13  14  15\n"
     ]
    }
   ],
   "source": [
    "print(pd.DataFrame(label_mapping, index=['mapping']))"
   ]
  },
  {
   "cell_type": "code",
   "execution_count": 711,
   "metadata": {},
   "outputs": [],
   "source": [
    "# 进行数据特征的处理\n",
    "\n",
    "# 划分训练集和测试集\n",
    "from sklearn.model_selection import train_test_split\n",
    "x_train, x_test, y_train, y_test = train_test_split(df_train['brief_clean'].values, df_train['label'].values, random_state=1)"
   ]
  },
  {
   "cell_type": "code",
   "execution_count": 514,
   "metadata": {},
   "outputs": [
    {
     "name": "stdout",
     "output_type": "stream",
     "text": [
      "<class 'list'>\n"
     ]
    }
   ],
   "source": [
    "# 把新闻数据的类型由列表全部转化为指定的格式\n",
    "train_words = []\n",
    "for line_index in range(len(x_train)):\n",
    "    try:\n",
    "        #\n",
    "        train_words.append(' '.join(x_train[line_index]))\n",
    "    except:\n",
    "         print (line_index ,word_index)\n",
    "print(type(train_words))"
   ]
  },
  {
   "cell_type": "code",
   "execution_count": 515,
   "metadata": {},
   "outputs": [
    {
     "name": "stdout",
     "output_type": "stream",
     "text": [
      "(3369, 20718)\n",
      "(3369, 4000)\n"
     ]
    }
   ],
   "source": [
    "from sklearn.feature_extraction.text import CountVectorizer\n",
    "vec = CountVectorizer(analyzer='word',lowercase = False)\n",
    "feature = vec.fit_transform(train_words)\n",
    "print(feature.shape)\n",
    "\n",
    "# 3369篇文章共创建的语料库的容量为2w多，而限制保留指定的特征后，就会选取词汇频数最大的4000个进行保留，以避免稀疏矩阵\n",
    "vec = CountVectorizer(analyzer='word', max_features=4000,  lowercase = False)\n",
    "feature = vec.fit_transform(train_words)\n",
    "print(feature.shape)"
   ]
  },
  {
   "cell_type": "code",
   "execution_count": 516,
   "metadata": {
    "scrolled": false
   },
   "outputs": [
    {
     "name": "stdout",
     "output_type": "stream",
     "text": [
      "[[0 0 0 ... 0 0 0]\n",
      " [0 0 0 ... 0 0 0]\n",
      " [0 0 0 ... 0 0 0]\n",
      " ...\n",
      " [0 0 0 ... 0 0 0]\n",
      " [0 0 0 ... 0 0 0]\n",
      " [0 0 0 ... 0 0 0]]\n"
     ]
    }
   ],
   "source": [
    "# print(vec.get_feature_names())\n",
    "print(feature.toarray())"
   ]
  },
  {
   "cell_type": "code",
   "execution_count": 517,
   "metadata": {},
   "outputs": [
    {
     "data": {
      "text/plain": [
       "MultinomialNB()"
      ]
     },
     "execution_count": 517,
     "metadata": {},
     "output_type": "execute_result"
    }
   ],
   "source": [
    "# 实现词袋模型的特征建模，导入贝叶斯模型\n",
    "from sklearn.naive_bayes import MultinomialNB #贝叶斯模型\n",
    "classifier = MultinomialNB() \n",
    "classifier.fit(feature, y_train)"
   ]
  },
  {
   "cell_type": "code",
   "execution_count": 518,
   "metadata": {},
   "outputs": [
    {
     "data": {
      "text/plain": [
       "'2021 点 广西 防城港市 上思县 思阳 镇江 平村 路口 一辆 装满 沙子 货车 侧翻 司机 被困 请求 救援 接到 报警 上思县 消防 救援 大队 出动 车 名 消防 指战员 赶赴现场 施救'"
      ]
     },
     "execution_count": 518,
     "metadata": {},
     "output_type": "execute_result"
    }
   ],
   "source": [
    "# 将进行检测的数据也需要转化为一致的格式\n",
    "test_words = []\n",
    "for line_index in range(len(x_test)):\n",
    "    try:\n",
    "        #\n",
    "        test_words.append(' '.join(x_test[line_index]))\n",
    "    except:\n",
    "         print (line_index,word_index)\n",
    "test_words[1]"
   ]
  },
  {
   "cell_type": "code",
   "execution_count": 519,
   "metadata": {},
   "outputs": [
    {
     "data": {
      "text/plain": [
       "0.6829919857524488"
      ]
     },
     "execution_count": 519,
     "metadata": {},
     "output_type": "execute_result"
    }
   ],
   "source": [
    "# 进行模型得分的评测\n",
    "classifier.score(vec.transform(test_words), y_test)"
   ]
  },
  {
   "cell_type": "code",
   "execution_count": 706,
   "metadata": {},
   "outputs": [
    {
     "name": "stdout",
     "output_type": "stream",
     "text": [
      "[12]\n",
      "12\n",
      "['社会:12']\n"
     ]
    }
   ],
   "source": [
    "# 用这个模型进行预测一下，看看文本分类的结果\n",
    "print(classifier.predict(vec.transform(test_words)[1]))\n",
    "\n",
    "# 查看一下对应的标签，并对应上最初的映射结果\n",
    "print(y_test[1])\n",
    "print(['{}:{}'.format(key,value) for key,value in filter(lambda x:12 == x[1], label_mapping.items())])"
   ]
  },
  {
   "cell_type": "markdown",
   "metadata": {},
   "source": [
    "# 5. TF-IDF制作特征"
   ]
  },
  {
   "cell_type": "code",
   "execution_count": 521,
   "metadata": {},
   "outputs": [
    {
     "data": {
      "text/plain": [
       "0.6215494211932324"
      ]
     },
     "execution_count": 521,
     "metadata": {},
     "output_type": "execute_result"
    }
   ],
   "source": [
    "# 用TF-IDF来提取特征\n",
    "from sklearn.feature_extraction.text import TfidfVectorizer\n",
    "vectorizer = TfidfVectorizer(analyzer='word', max_features=4000,  lowercase = False)\n",
    "vectorizer.fit(train_words)\n",
    "classifier = MultinomialNB()\n",
    "classifier.fit(vectorizer.transform(train_words), y_train)\n",
    "classifier.score(vectorizer.transform(test_words), y_test)"
   ]
  },
  {
   "cell_type": "markdown",
   "metadata": {},
   "source": [
    "Not good."
   ]
  },
  {
   "cell_type": "markdown",
   "metadata": {},
   "source": [
    "# 6.用关键词预测新闻类别"
   ]
  },
  {
   "cell_type": "code",
   "execution_count": 707,
   "metadata": {},
   "outputs": [],
   "source": [
    "# 划分训练集和测试集\n",
    "from sklearn.model_selection import train_test_split\n",
    "x_train, x_test, y_train, y_test = train_test_split(df_train['keywords'].values, df_train['label'].values, random_state=1)\n",
    "\n",
    "# 把新闻数据的类型由列表全部转化为指定的格式\n",
    "train_words = []\n",
    "for line_index in range(len(x_train)):\n",
    "    try:\n",
    "        #\n",
    "        train_words.append(' '.join(x_train[line_index].split(',')))\n",
    "    except:\n",
    "         print (line_index ,word_index)\n",
    "\n",
    "test_words = []\n",
    "for line_index in range(len(x_test)):\n",
    "    try:\n",
    "        #\n",
    "        test_words.append(' '.join(x_test[line_index].split(',')))\n",
    "    except:\n",
    "         print (line_index ,word_index)"
   ]
  },
  {
   "cell_type": "code",
   "execution_count": 708,
   "metadata": {},
   "outputs": [
    {
     "name": "stdout",
     "output_type": "stream",
     "text": [
      "(3369, 7328)\n",
      "词袋模型: 0.4781834372217275\n",
      "TF-IDF: 0.45859305431878894\n"
     ]
    }
   ],
   "source": [
    "from sklearn.feature_extraction.text import CountVectorizer\n",
    "vec = CountVectorizer(analyzer='word',lowercase = False)\n",
    "feature = vec.fit_transform(train_words)\n",
    "print(feature.shape)\n",
    "\n",
    "# 词袋模型\n",
    "vec = CountVectorizer(analyzer='word', max_features=4000, lowercase = False)\n",
    "feature = vec.fit_transform(train_words)\n",
    "classifier = MultinomialNB() \n",
    "classifier.fit(feature, y_train)\n",
    "print('词袋模型:',classifier.score(vec.transform(test_words), y_test))\n",
    "\n",
    "# 用TF-IDF来提取特征\n",
    "vectorizer = TfidfVectorizer(analyzer='word', max_features=4000, lowercase = False)\n",
    "vectorizer.fit(train_words)\n",
    "classifier = MultinomialNB()\n",
    "classifier.fit(vectorizer.transform(train_words), y_train)\n",
    "print('TF-IDF:',classifier.score(vectorizer.transform(test_words), y_test))"
   ]
  },
  {
   "cell_type": "markdown",
   "metadata": {},
   "source": [
    "This is so bad."
   ]
  },
  {
   "cell_type": "code",
   "execution_count": 524,
   "metadata": {},
   "outputs": [
    {
     "name": "stdout",
     "output_type": "stream",
     "text": [
      "广西 上思 消防\n",
      "[6]\n",
      "['书画:6']\n",
      "12\n",
      "['社会:12']\n"
     ]
    }
   ],
   "source": [
    "# 用这个模型进行预测一下，看看文本分类的结果\n",
    "print(test_words[1])\n",
    "print(classifier.predict(vec.transform(test_words)[1]))\n",
    "print(['{}:{}'.format(key,value) for key,value in filter(lambda x:6 == x[1], label_mapping.items())])\n",
    "\n",
    "# 查看一下对应的标签，并对应上最初的映射结果\n",
    "print(y_test[1])\n",
    "print(['{}:{}'.format(key,value) for key,value in filter(lambda x:12 == x[1], label_mapping.items())])"
   ]
  },
  {
   "cell_type": "markdown",
   "metadata": {},
   "source": [
    "This doesn't make sense."
   ]
  },
  {
   "cell_type": "markdown",
   "metadata": {},
   "source": [
    "# 7. 用关键词和brief做预测"
   ]
  },
  {
   "cell_type": "code",
   "execution_count": 710,
   "metadata": {},
   "outputs": [],
   "source": [
    "words1 = []\n",
    "for line_index in range(len(df_train['brief_clean'])):\n",
    "    try:\n",
    "        #\n",
    "        words1.append(' '.join(df_train['brief_clean'].values[line_index]))\n",
    "    except:\n",
    "         print (line_index ,word_index)\n",
    "# print(type(words1))"
   ]
  },
  {
   "cell_type": "code",
   "execution_count": 565,
   "metadata": {},
   "outputs": [],
   "source": [
    "words2 = []\n",
    "for line_index in range(len(df_train['keywords'])):\n",
    "    try:\n",
    "        #\n",
    "        words2.append(' '.join(df_train['keywords'][line_index].split(',')))\n",
    "    except:\n",
    "         print (line_index ,word_index)"
   ]
  },
  {
   "cell_type": "code",
   "execution_count": 584,
   "metadata": {},
   "outputs": [],
   "source": [
    "# Combine brief and keywords into a new colomn\n",
    "words = []\n",
    "for i in range(len(words2)):\n",
    "    words.append(words1[i]+words2[i])"
   ]
  },
  {
   "cell_type": "code",
   "execution_count": 587,
   "metadata": {},
   "outputs": [
    {
     "data": {
      "text/plain": [
       "'赣州 法院 审理 案件 中 诈骗 分子 假冒 海外 女 留学生 各类 社交 软件 境外 273 名 男性 实施 诈骗境外男性 被骗 电信诈骗'"
      ]
     },
     "execution_count": 587,
     "metadata": {},
     "output_type": "execute_result"
    }
   ],
   "source": [
    "words[0]"
   ]
  },
  {
   "cell_type": "code",
   "execution_count": 602,
   "metadata": {},
   "outputs": [
    {
     "name": "stdout",
     "output_type": "stream",
     "text": [
      "(3369, 25226)\n",
      "词袋模型: 0.6901157613535174\n",
      "TF-IDF: 0.6268922528940338\n"
     ]
    }
   ],
   "source": [
    "# 划分训练集和测试集\n",
    "from sklearn.model_selection import train_test_split\n",
    "x_train, x_test, y_train, y_test = train_test_split(words, df_train['label'].values, random_state=1)\n",
    "\n",
    "vec = CountVectorizer(analyzer='word',lowercase = False)\n",
    "feature = vec.fit_transform(x_train)\n",
    "print(feature.shape)\n",
    "\n",
    "# 词袋模型\n",
    "vec = CountVectorizer(analyzer='word', max_features=4000, lowercase = False)\n",
    "feature = vec.fit_transform(x_train)\n",
    "classifier = MultinomialNB() \n",
    "classifier.fit(feature, y_train)\n",
    "print('词袋模型:',classifier.score(vec.transform(x_test), y_test))\n",
    "\n",
    "# 用TF-IDF来提取特征\n",
    "vectorizer = TfidfVectorizer(analyzer='word', max_features=4000, lowercase = False)\n",
    "vectorizer.fit(x_train)\n",
    "classifier = MultinomialNB()\n",
    "classifier.fit(vectorizer.transform(x_train), y_train)\n",
    "print('TF-IDF:',classifier.score(vectorizer.transform(x_test), y_test))"
   ]
  },
  {
   "cell_type": "markdown",
   "metadata": {},
   "source": [
    "It deed improves a little. But it doesn't improve much."
   ]
  },
  {
   "cell_type": "code",
   "execution_count": 607,
   "metadata": {},
   "outputs": [
    {
     "data": {
      "image/png": "[encoded data removed]",
      "text/plain": [
       "<Figure size 720x360 with 1 Axes>"
      ]
     },
     "metadata": {
      "needs_background": "light"
     },
     "output_type": "display_data"
    }
   ],
   "source": [
    "plt.hist(df_train['label'], bins = 30); # Unbalanced"
   ]
  },
  {
   "cell_type": "markdown",
   "metadata": {},
   "source": [
    "# 8. RNN模型"
   ]
  },
  {
   "cell_type": "code",
   "execution_count": 669,
   "metadata": {},
   "outputs": [
    {
     "data": {
      "image/png": "[encoded data removed]",
      "text/plain": [
       "<Figure size 720x360 with 1 Axes>"
      ]
     },
     "metadata": {
      "needs_background": "light"
     },
     "output_type": "display_data"
    }
   ],
   "source": [
    "from tensorflow.keras.preprocessing.text import Tokenizer\n",
    "tokenizer = Tokenizer(num_words=4000, oov_token='<UNK>') # oov_token is not frequently used words.\n",
    "tokenizer.fit_on_texts(x_train) # Map texts to numbers\n",
    "\n",
    "lengths = [len(t.split(' ')) for t in x_train]\n",
    "plt.hist(lengths, bins = len(set(lengths)))\n",
    "plt.xlim(0,100)\n",
    "plt.show()"
   ]
  },
  {
   "cell_type": "markdown",
   "metadata": {},
   "source": [
    "Most of the lengths are about 0-50 words long."
   ]
  },
  {
   "cell_type": "code",
   "execution_count": 679,
   "metadata": {},
   "outputs": [],
   "source": [
    "maxlen = 50 #truncate them\n",
    "from tensorflow.keras.preprocessing.sequence import pad_sequences\n",
    "\n",
    "def get_sequences(tokenizer, train):\n",
    "    sequences = tokenizer.texts_to_sequences(train)\n",
    "    padded = pad_sequences(sequences, truncating='post',padding='post', maxlen=maxlen)\n",
    "    return padded\n",
    "\n",
    "padded_train_seq = get_sequences(tokenizer, x_train)"
   ]
  },
  {
   "cell_type": "code",
   "execution_count": 680,
   "metadata": {},
   "outputs": [
    {
     "data": {
      "text/plain": [
       "(3369, 50)"
      ]
     },
     "execution_count": 680,
     "metadata": {},
     "output_type": "execute_result"
    }
   ],
   "source": [
    "padded_train_seq.shape"
   ]
  },
  {
   "cell_type": "code",
   "execution_count": 681,
   "metadata": {},
   "outputs": [],
   "source": [
    "test_seq = get_sequences(tokenizer, x_test)"
   ]
  },
  {
   "cell_type": "code",
   "execution_count": 682,
   "metadata": {},
   "outputs": [],
   "source": [
    "# Create the model\n",
    "model = tf.keras.models.Sequential([\n",
    "        tf.keras.layers.Embedding(4000, 16, input_length=maxlen),    \n",
    "        tf.keras.layers.Bidirectional(tf.keras.layers.LSTM(20, return_sequences=2)),  \n",
    "        tf.keras.layers.Bidirectional(tf.keras.layers.LSTM(20)), \n",
    "        tf.keras.layers.Dense(16, activation='softmax')                     \n",
    "])\n",
    "\n",
    "model.compile(\n",
    "    loss='sparse_categorical_crossentropy',\n",
    "    optimizer = 'adam',\n",
    "    metrics = ['accuracy']\n",
    ")"
   ]
  },
  {
   "cell_type": "code",
   "execution_count": 683,
   "metadata": {},
   "outputs": [
    {
     "data": {
      "text/plain": [
       "<tensorflow.python.keras.layers.embeddings.Embedding at 0x7fda283c2670>"
      ]
     },
     "execution_count": 683,
     "metadata": {},
     "output_type": "execute_result"
    }
   ],
   "source": [
    "tf.keras.layers.Embedding(4000, 16, input_length=maxlen)"
   ]
  },
  {
   "cell_type": "code",
   "execution_count": 684,
   "metadata": {},
   "outputs": [
    {
     "name": "stdout",
     "output_type": "stream",
     "text": [
      "Model: \"sequential_7\"\n",
      "_________________________________________________________________\n",
      "Layer (type)                 Output Shape              Param #   \n",
      "=================================================================\n",
      "embedding_14 (Embedding)     (None, 50, 16)            64000     \n",
      "_________________________________________________________________\n",
      "bidirectional_14 (Bidirectio (None, 50, 40)            5920      \n",
      "_________________________________________________________________\n",
      "bidirectional_15 (Bidirectio (None, 40)                9760      \n",
      "_________________________________________________________________\n",
      "dense_7 (Dense)              (None, 16)                656       \n",
      "=================================================================\n",
      "Total params: 80,336\n",
      "Trainable params: 80,336\n",
      "Non-trainable params: 0\n",
      "_________________________________________________________________\n"
     ]
    }
   ],
   "source": [
    "model.summary()"
   ]
  },
  {
   "cell_type": "code",
   "execution_count": 685,
   "metadata": {},
   "outputs": [
    {
     "name": "stdout",
     "output_type": "stream",
     "text": [
      "Epoch 1/20\n",
      "106/106 [==============================] - 8s 36ms/step - loss: 2.5414 - accuracy: 0.1538 - val_loss: 2.3814 - val_accuracy: 0.2386\n",
      "Epoch 2/20\n",
      "106/106 [==============================] - 3s 28ms/step - loss: 2.1511 - accuracy: 0.3256 - val_loss: 2.0053 - val_accuracy: 0.3598\n",
      "Epoch 3/20\n",
      "106/106 [==============================] - 3s 29ms/step - loss: 1.6867 - accuracy: 0.4812 - val_loss: 1.7724 - val_accuracy: 0.4506\n",
      "Epoch 4/20\n",
      "106/106 [==============================] - 3s 28ms/step - loss: 1.3392 - accuracy: 0.6031 - val_loss: 1.7044 - val_accuracy: 0.4951\n",
      "Epoch 5/20\n",
      "106/106 [==============================] - 3s 28ms/step - loss: 1.0753 - accuracy: 0.6916 - val_loss: 1.7020 - val_accuracy: 0.5147\n",
      "Epoch 6/20\n",
      "106/106 [==============================] - 3s 28ms/step - loss: 0.8905 - accuracy: 0.7415 - val_loss: 1.7042 - val_accuracy: 0.5272\n",
      "Epoch 7/20\n",
      "106/106 [==============================] - 3s 28ms/step - loss: 0.7647 - accuracy: 0.7795 - val_loss: 1.7660 - val_accuracy: 0.5218\n",
      "Epoch 8/20\n",
      "106/106 [==============================] - 3s 28ms/step - loss: 0.6589 - accuracy: 0.8130 - val_loss: 1.8681 - val_accuracy: 0.5111\n"
     ]
    }
   ],
   "source": [
    "# Train the model\n",
    "h = model.fit(\n",
    "    padded_train_seq, y_train, \n",
    "    validation_data = (test_seq, y_test),\n",
    "    epochs = 20,\n",
    "    callbacks = [\n",
    "                 tf.keras.callbacks.EarlyStopping(monitor='val_accuracy', patience=2)\n",
    "    ]\n",
    ")"
   ]
  },
  {
   "cell_type": "code",
   "execution_count": 677,
   "metadata": {},
   "outputs": [],
   "source": [
    "def show_history(h):\n",
    "    epochs_trained = len(h.history['loss'])\n",
    "    plt.figure(figsize=(16, 6))\n",
    "\n",
    "    plt.subplot(1, 2, 1)\n",
    "    plt.plot(range(0, epochs_trained), h.history.get('accuracy'), label='Training')\n",
    "    plt.plot(range(0, epochs_trained), h.history.get('val_accuracy'), label='Validation')\n",
    "    plt.ylim([0., 1.])\n",
    "    plt.xlabel('Epochs')\n",
    "    plt.ylabel('Accuracy')\n",
    "    plt.legend()\n",
    "\n",
    "    plt.subplot(1, 2, 2)\n",
    "    plt.plot(range(0, epochs_trained), h.history.get('loss'), label='Training')\n",
    "    plt.plot(range(0, epochs_trained), h.history.get('val_loss'), label='Validation')\n",
    "    plt.xlabel('Epochs')\n",
    "    plt.ylabel('Loss')\n",
    "    plt.legend()\n",
    "    plt.show()"
   ]
  },
  {
   "cell_type": "code",
   "execution_count": 686,
   "metadata": {},
   "outputs": [
    {
     "data": {
      "image/png": "[encoded data removed]",
      "text/plain": [
       "<Figure size 1152x432 with 2 Axes>"
      ]
     },
     "metadata": {
      "needs_background": "light"
     },
     "output_type": "display_data"
    }
   ],
   "source": [
    "show_history(h)"
   ]
  }
 ],
 "metadata": {
  "kernelspec": {
   "display_name": "Python 3",
   "language": "python",
   "name": "python3"
  },
  "language_info": {
   "codemirror_mode": {
    "name": "ipython",
    "version": 3
   },
   "file_extension": ".py",
   "mimetype": "text/x-python",
   "name": "python",
   "nbconvert_exporter": "python",
   "pygments_lexer": "ipython3",
   "version": "3.8.5"
  }
 },
 "nbformat": 4,
 "nbformat_minor": 4
}
